{
 "cells": [
  {
   "cell_type": "markdown",
   "metadata": {},
   "source": [
    "# TRAINING / FINE-TUNING WEIGHTED BINARY BERT CLASSIFIER"
   ]
  },
  {
   "cell_type": "code",
   "execution_count": 1,
   "metadata": {},
   "outputs": [],
   "source": [
    "# Initialise relevant packages\n",
    "\n",
    "# Basics\n",
    "import pandas as pd\n",
    "import numpy as np\n",
    "import pickle\n",
    "import matplotlib.pyplot as plt\n",
    "# Preprocessing\n",
    "import torch\n",
    "from sklearn.model_selection import train_test_split\n",
    "\n",
    "# Modelling\n",
    "from transformers import BertTokenizerFast, BertForSequenceClassification, Trainer, TrainingArguments\n",
    "\n",
    "# Evaluation\n",
    "from sklearn.metrics import classification_report, f1_score\n",
    "from sklearn.utils.class_weight import compute_class_weight"
   ]
  },
  {
   "cell_type": "markdown",
   "metadata": {},
   "source": [
    "## Load Datasets"
   ]
  },
  {
   "cell_type": "code",
   "execution_count": 2,
   "metadata": {},
   "outputs": [],
   "source": [
    "## Load datasets\n",
    "#training_data = pd.read_pickle('./Data/Clean Training Data/training_data_binary.pkl')\n",
    "#\n",
    "#df_raw = {}\n",
    "#\n",
    "## write to dict\n",
    "#for dataset in training_data:\n",
    "#    df_raw[dataset] = training_data[dataset].copy() #.sample(n=100, random_state=123)\n",
    "#\n",
    "#\n",
    "#FOR NOW: Train just on \"combined\" dataset \n",
    "#\n",
    "## delete all but \"combined\" dict entries\n",
    "#for model in ['davidson2017', 'founta2018', 'dynabench2021']:\n",
    "#    del df_raw[model]\n",
    "#\n",
    "## Split each dataset into training and validation set\n",
    "#df_train, df_valtest, df_val, df_test = {}, {}, {}, {}\n",
    "#\n",
    "#for dataset in df_raw:\n",
    "#    df_train[dataset], df_valtest[dataset] = train_test_split(df_raw[dataset], test_size=0.2, stratify=df_raw[dataset].label, random_state=123)\n",
    "#    df_val[dataset], df_test[dataset] = train_test_split(df_valtest[dataset], test_size=0.5, stratify=df_valtest[dataset].label, random_state=123)\n",
    "#\n",
    "## Split up text and label columns in dataframes into series for each dataset\n",
    "#train_texts, val_texts, test_texts, train_labels, val_labels, test_labels = {}, {}, {}, {}, {}, {}\n",
    "#\n",
    "#for dataset in df_raw:\n",
    "#    train_texts[dataset] = df_train[dataset].text.astype(\"string\").tolist()\n",
    "#    val_texts[dataset] = df_val[dataset].text.astype(\"string\").tolist()\n",
    "#    test_texts[dataset] = df_test[dataset].text.astype(\"string\").tolist()\n",
    "#    \n",
    "#    train_labels[dataset] = df_train[dataset].label.tolist()\n",
    "#    val_labels[dataset] = df_val[dataset].label.tolist()\n",
    "#    test_labels[dataset] = df_test[dataset].label.tolist()"
   ]
  },
  {
   "cell_type": "markdown",
   "metadata": {},
   "source": [
    "# User input ( only variable declaration )"
   ]
  },
  {
   "cell_type": "code",
   "execution_count": null,
   "metadata": {},
   "outputs": [],
   "source": [
    "dataset_list = ['davidson2017', 'founta2018', 'dynabench2021','combined']"
   ]
  },
  {
   "cell_type": "code",
   "execution_count": 3,
   "metadata": {},
   "outputs": [],
   "source": [
    "# initialise train,val,test dictionnaries\n",
    "train_texts, val_texts, test_texts, train_labels, val_labels, test_labels = {}, {}, {}, {}, {}, {}\n",
    "\n",
    "# write to dict\n",
    "for dataset in dataset_list:\n",
    "    data_train = pd.read_csv(f\"/home/ec2-user/Projects/v0.1/Data/{dataset}/{dataset}_train.csv\",lineterminator=\"\\n\")#training_data[dataset].copy()#.sample(n=100, random_state=123)#df_train[dataset].text.astype(\"string\").tolist()\n",
    "    data_test = pd.read_csv(f\"/home/ec2-user/Projects/v0.1/Data/{dataset}/{dataset}_test.csv\",lineterminator=\"\\n\")#training_data[dataset].copy()#.sample(n=100, random_state=123)#df_train[dataset].text.astype(\"string\").tolist()\n",
    "    data_val = pd.read_csv(f\"/home/ec2-user/Projects/v0.1/Data/{dataset}/{dataset}_valid.csv\",lineterminator=\"\\n\")#training_data[dataset].copy()#.sample(n=100, random_state=123)#df_train[dataset].text.astype(\"string\").tolist()\n",
    "    \n",
    "    train_texts[dataset] = data_train.text.astype(\"string\").tolist()\n",
    "    val_texts[dataset] = data_val.text.astype(\"string\").tolist()\n",
    "    test_texts[dataset] = data_test.text.astype(\"string\").tolist()\n",
    "    \n",
    "    train_labels[dataset] = data_train.label.tolist()\n",
    "    val_labels[dataset] = data_val.label.tolist()\n",
    "    test_labels[dataset] = data_test.label.tolist()\n",
    "\n",
    "    "
   ]
  },
  {
   "cell_type": "code",
   "execution_count": null,
   "metadata": {},
   "outputs": [],
   "source": []
  },
  {
   "cell_type": "code",
   "execution_count": 4,
   "metadata": {},
   "outputs": [
    {
     "data": {
      "text/plain": [
       "{'davidson2017': array([0.53061771, 8.66520979]),\n",
       " 'founta2018': array([ 0.52612333, 10.06998993]),\n",
       " 'dynabench2021': array([1.00262325, 0.99739044]),\n",
       " 'combined': array([0.58043118, 3.60824742])}"
      ]
     },
     "execution_count": 4,
     "metadata": {},
     "output_type": "execute_result"
    }
   ],
   "source": [
    "# compute class weights based on training data label distribution\n",
    "class_weights = {}\n",
    "\n",
    "for dataset in dataset_list:\n",
    "    class_weights[dataset] = compute_class_weight('balanced', classes = np.unique(train_labels[dataset]), y = train_labels[dataset])\n",
    "\n",
    "class_weights"
   ]
  },
  {
   "cell_type": "markdown",
   "metadata": {},
   "source": [
    "## Tokenize Texts"
   ]
  },
  {
   "cell_type": "code",
   "execution_count": 9,
   "metadata": {},
   "outputs": [],
   "source": [
    "# import tokenizer\n",
    "tokenizer = BertTokenizerFast.from_pretrained('bert-base-uncased')\n",
    "\n",
    "# add special tokens for URLs, emojis and mentions (--> see pre-processing)\n",
    "special_tokens_dict = {'additional_special_tokens': ['[USER]','[EMOJI]','[URL]']}\n",
    "num_added_toks = tokenizer.add_special_tokens(special_tokens_dict)"
   ]
  },
  {
   "cell_type": "code",
   "execution_count": 10,
   "metadata": {},
   "outputs": [
    {
     "data": {
      "text/plain": [
       "64"
      ]
     },
     "execution_count": 10,
     "metadata": {},
     "output_type": "execute_result"
    }
   ],
   "source": [
    "# Tokenize text series for each dataset\n",
    "train_encodings, val_encodings, test_encodings = {}, {}, {}\n",
    "\n",
    "for dataset in dataset_list:\n",
    "    train_encodings[dataset] = tokenizer(train_texts[dataset], truncation=True, padding=True,max_length = 64)\n",
    "    val_encodings[dataset] = tokenizer(val_texts[dataset], truncation=True, padding=True,max_length = 64)\n",
    "    test_encodings[dataset] = tokenizer(test_texts[dataset], truncation=True, padding=True,max_length = 64)\n",
    "    \n",
    "# sanity check for length of encoding vectors\n",
    "len(train_encodings[dataset][\"input_ids\"][0])"
   ]
  },
  {
   "cell_type": "markdown",
   "metadata": {},
   "source": [
    "## Create PyTorch Datasets "
   ]
  },
  {
   "cell_type": "code",
   "execution_count": 11,
   "metadata": {},
   "outputs": [],
   "source": [
    "class HateDataset(torch.utils.data.Dataset):\n",
    "    def __init__(self, encodings, labels):\n",
    "        self.encodings = encodings\n",
    "        self.labels = labels\n",
    "\n",
    "    def __getitem__(self, idx):\n",
    "        item = {key: torch.tensor(val[idx]) for key, val in self.encodings.items()}\n",
    "        item['labels'] = torch.tensor(self.labels[idx])\n",
    "        return item\n",
    "\n",
    "    def __len__(self):\n",
    "        return len(self.labels)\n",
    "\n",
    "train_dataset, val_dataset, test_dataset = {}, {}, {}\n",
    "    \n",
    "for dataset in df_raw:\n",
    "    train_dataset[dataset] = HateDataset(train_encodings[dataset], train_labels[dataset])\n",
    "    val_dataset[dataset] = HateDataset(val_encodings[dataset], val_labels[dataset])\n",
    "    test_dataset[dataset] = HateDataset(test_encodings[dataset], test_labels[dataset])"
   ]
  },
  {
   "cell_type": "markdown",
   "metadata": {},
   "source": [
    "## Train Weighted Models"
   ]
  },
  {
   "cell_type": "code",
   "execution_count": 12,
   "metadata": {},
   "outputs": [
    {
     "name": "stdout",
     "output_type": "stream",
     "text": [
      "CUDA unavailable\n"
     ]
    },
    {
     "data": {
      "text/plain": [
       "device(type='cpu')"
      ]
     },
     "execution_count": 12,
     "metadata": {},
     "output_type": "execute_result"
    }
   ],
   "source": [
    "# check CUDA availability\n",
    "\n",
    "if torch.cuda.is_available():\n",
    "    print('CUDA available')\n",
    "    print(torch.cuda.get_device_name())\n",
    "    print(torch.cuda.device_count(), 'GPUs')\n",
    "else:\n",
    "    print('CUDA unavailable')\n",
    "\n",
    "device = torch.device(\"cuda\" if torch.cuda.is_available() else \"cpu\")\n",
    "device"
   ]
  },
  {
   "cell_type": "code",
   "execution_count": 13,
   "metadata": {},
   "outputs": [],
   "source": [
    "# Define training arguments\n",
    "training_args = {}\n",
    "\n",
    "for dataset in dataset_list:\n",
    "    training_args[dataset] = TrainingArguments(\n",
    "        save_steps = 10000,\n",
    "        output_dir = './Models/BERT_{}_weighted/Checkpoints'.format(dataset), # output directory\n",
    "        num_train_epochs = 3,              # total number of training epochs\n",
    "        per_device_train_batch_size = 16,  # batch size per device during training\n",
    "        per_device_eval_batch_size = 64,   # batch size for evaluation\n",
    "        evaluation_strategy = 'epoch',\n",
    "        warmup_steps = 500,                # number of warmup steps for learning rate scheduler\n",
    "        weight_decay = 0.01,               # strength of weight decay\n",
    "        learning_rate = 5e-5,\n",
    "        seed = 123\n",
    "    )"
   ]
  },
  {
   "cell_type": "code",
   "execution_count": 14,
   "metadata": {},
   "outputs": [],
   "source": [
    "# define Trainer with weighted loss for combined dataset\n",
    "\n",
    "class WeightedTrainerCombined(Trainer):\n",
    "    def compute_loss(self, model, inputs):\n",
    "        labels = inputs.pop(\"labels\")\n",
    "        outputs = model(**inputs)\n",
    "        logits = outputs[0]\n",
    "        weighted_loss = torch.nn.CrossEntropyLoss(weight=torch.FloatTensor(class_weights['combined'])).to(device)\n",
    "        return weighted_loss(logits, labels)"
   ]
  },
  {
   "cell_type": "code",
   "execution_count": 15,
   "metadata": {},
   "outputs": [],
   "source": [
    "# define explicit model initialisation to allow for hyperparameter search\n",
    "def model_init():\n",
    "    model = BertForSequenceClassification.from_pretrained(\"bert-base-uncased\")\n",
    "    # resize to match tokenizer length with special tokens added above\n",
    "    model.resize_token_embeddings(len(tokenizer))\n",
    "    return model"
   ]
  },
  {
   "cell_type": "code",
   "execution_count": 16,
   "metadata": {},
   "outputs": [
    {
     "name": "stderr",
     "output_type": "stream",
     "text": [
      "Some weights of the model checkpoint at bert-base-uncased were not used when initializing BertForSequenceClassification: ['cls.predictions.bias', 'cls.predictions.transform.dense.weight', 'cls.predictions.transform.dense.bias', 'cls.predictions.decoder.weight', 'cls.seq_relationship.weight', 'cls.seq_relationship.bias', 'cls.predictions.transform.LayerNorm.weight', 'cls.predictions.transform.LayerNorm.bias']\n",
      "- This IS expected if you are initializing BertForSequenceClassification from the checkpoint of a model trained on another task or with another architecture (e.g. initializing a BertForSequenceClassification model from a BertForPreTraining model).\n",
      "- This IS NOT expected if you are initializing BertForSequenceClassification from the checkpoint of a model that you expect to be exactly identical (initializing a BertForSequenceClassification model from a BertForSequenceClassification model).\n",
      "Some weights of BertForSequenceClassification were not initialized from the model checkpoint at bert-base-uncased and are newly initialized: ['classifier.weight', 'classifier.bias']\n",
      "You should probably TRAIN this model on a down-stream task to be able to use it for predictions and inference.\n"
     ]
    }
   ],
   "source": [
    "# Instantiate weighted trainer objects for each dataset\n",
    "trainer = {}\n",
    "\n",
    "for dataset in dataset_list:\n",
    "    if dataset == 'combined':\n",
    "        trainer[dataset] = WeightedTrainerCombined(                       \n",
    "            args=training_args[dataset],                  \n",
    "            train_dataset=train_dataset[dataset],         \n",
    "            eval_dataset=val_dataset[dataset],            \n",
    "            model_init = model_init\n",
    "        )"
   ]
  },
  {
   "cell_type": "code",
   "execution_count": null,
   "metadata": {},
   "outputs": [
    {
     "name": "stdout",
     "output_type": "stream",
     "text": [
      "Training weighted combined BERT model\n"
     ]
    },
    {
     "name": "stderr",
     "output_type": "stream",
     "text": [
      "Some weights of the model checkpoint at bert-base-uncased were not used when initializing BertForSequenceClassification: ['cls.predictions.bias', 'cls.predictions.transform.dense.weight', 'cls.predictions.transform.dense.bias', 'cls.predictions.decoder.weight', 'cls.seq_relationship.weight', 'cls.seq_relationship.bias', 'cls.predictions.transform.LayerNorm.weight', 'cls.predictions.transform.LayerNorm.bias']\n",
      "- This IS expected if you are initializing BertForSequenceClassification from the checkpoint of a model trained on another task or with another architecture (e.g. initializing a BertForSequenceClassification model from a BertForPreTraining model).\n",
      "- This IS NOT expected if you are initializing BertForSequenceClassification from the checkpoint of a model that you expect to be exactly identical (initializing a BertForSequenceClassification model from a BertForSequenceClassification model).\n",
      "Some weights of BertForSequenceClassification were not initialized from the model checkpoint at bert-base-uncased and are newly initialized: ['classifier.weight', 'classifier.bias']\n",
      "You should probably TRAIN this model on a down-stream task to be able to use it for predictions and inference.\n"
     ]
    },
    {
     "data": {
      "text/html": [
       "\n",
       "    <div>\n",
       "        <style>\n",
       "            /* Turns off some styling */\n",
       "            progress {\n",
       "                /* gets rid of default border in Firefox and Opera. */\n",
       "                border: none;\n",
       "                /* Needs to be in here for Safari polyfill so background images work as expected. */\n",
       "                background-size: auto;\n",
       "            }\n",
       "        </style>\n",
       "      \n",
       "      <progress value='4586' max='24906' style='width:300px; height:20px; vertical-align: middle;'></progress>\n",
       "      [ 4586/24906 4:04:35 < 18:04:12, 0.31 it/s, Epoch 0.55/3]\n",
       "    </div>\n",
       "    <table border=\"1\" class=\"dataframe\">\n",
       "  <thead>\n",
       "    <tr style=\"text-align: left;\">\n",
       "      <th>Epoch</th>\n",
       "      <th>Training Loss</th>\n",
       "      <th>Validation Loss</th>\n",
       "    </tr>\n",
       "  </thead>\n",
       "  <tbody>\n",
       "  </tbody>\n",
       "</table><p>"
      ],
      "text/plain": [
       "<IPython.core.display.HTML object>"
      ]
     },
     "metadata": {},
     "output_type": "display_data"
    }
   ],
   "source": [
    "# Fine-tune models for each dataset\n",
    "for dataset in trainer:\n",
    "    print('Training weighted {} BERT model'.format(dataset))\n",
    "    trainer[dataset].train()"
   ]
  },
  {
   "cell_type": "markdown",
   "metadata": {},
   "source": [
    "## Save Model and Tokenizer"
   ]
  },
  {
   "cell_type": "code",
   "execution_count": null,
   "metadata": {},
   "outputs": [],
   "source": [
    "for dataset in trainer:    \n",
    "    trainer[dataset].save_model('./Models/BERT_{}_weighted/Final'.format(dataset))\n",
    "    tokenizer.save_pretrained('./Models/BERT_{}_weighted/Final'.format(dataset))"
   ]
  },
  {
   "cell_type": "markdown",
   "metadata": {},
   "source": [
    "## Reload Models\n",
    "So that models can be evaluated on test set even after kernel resets"
   ]
  },
  {
   "cell_type": "code",
   "execution_count": 19,
   "metadata": {},
   "outputs": [],
   "source": [
    "# load fine-tuned models\n",
    "\n",
    "def load_model(dataset):\n",
    "    model =  BertForSequenceClassification.from_pretrained(f'./Models/BERT_{dataset}_weighted_120221/Final')\n",
    "    trainer = WeightedTrainerCombined(\n",
    "        model = model,\n",
    "        args = TrainingArguments(\n",
    "            output_dir=f'./Models/BERT_{dataset}_weighted/Test',\n",
    "            per_device_eval_batch_size = 64)\n",
    "    )\n",
    "    return trainer\n",
    "\n",
    "trainer = {}\n",
    "\n",
    "for dataset in ['combined']:\n",
    "    trainer[dataset] = load_model(dataset)"
   ]
  },
  {
   "cell_type": "markdown",
   "metadata": {},
   "source": [
    "## Evaluate Models on Test Data"
   ]
  },
  {
   "cell_type": "code",
   "execution_count": 20,
   "metadata": {},
   "outputs": [
    {
     "name": "stdout",
     "output_type": "stream",
     "text": [
      "Evaluating weighted combined BERT model on test data\n"
     ]
    },
    {
     "data": {
      "text/html": [
       "\n",
       "    <div>\n",
       "        <style>\n",
       "            /* Turns off some styling */\n",
       "            progress {\n",
       "                /* gets rid of default border in Firefox and Opera. */\n",
       "                border: none;\n",
       "                /* Needs to be in here for Safari polyfill so background images work as expected. */\n",
       "                background-size: auto;\n",
       "            }\n",
       "        </style>\n",
       "      \n",
       "      <progress value='260' max='260' style='width:300px; height:20px; vertical-align: middle;'></progress>\n",
       "      [260/260 13:49]\n",
       "    </div>\n",
       "    "
      ],
      "text/plain": [
       "<IPython.core.display.HTML object>"
      ]
     },
     "metadata": {},
     "output_type": "display_data"
    },
    {
     "name": "stdout",
     "output_type": "stream",
     "text": [
      "eval_loss 0.30845358967781067\n",
      "eval_runtime 833.389\n",
      "eval_samples_per_second 19.923\n",
      "\n"
     ]
    }
   ],
   "source": [
    "# Evaluate each model on its corresponding test set\n",
    "\n",
    "results = {}\n",
    "\n",
    "for dataset in trainer:\n",
    "    print(f'Evaluating weighted {dataset} BERT model on test data')\n",
    "    results[dataset] = trainer[dataset].predict(test_dataset[dataset])\n",
    "    for metric in results[dataset].metrics:\n",
    "        print(metric, results[dataset].metrics['{}'.format(metric)])\n",
    "    print()"
   ]
  },
  {
   "cell_type": "code",
   "execution_count": 21,
   "metadata": {},
   "outputs": [
    {
     "name": "stdout",
     "output_type": "stream",
     "text": [
      "COMBINED\n",
      "              precision    recall  f1-score   support\n",
      "\n",
      "           0       0.94      0.93      0.94     13738\n",
      "           1       0.69      0.72      0.70      2866\n",
      "\n",
      "    accuracy                           0.90     16604\n",
      "   macro avg       0.81      0.83      0.82     16604\n",
      "weighted avg       0.90      0.90      0.90     16604\n",
      "\n",
      "\n"
     ]
    }
   ],
   "source": [
    "# write predictions to series\n",
    "pred_labels={}\n",
    "\n",
    "for dataset in trainer:\n",
    "\n",
    "    preds=[]\n",
    "    \n",
    "    for row in results[dataset][0]:\n",
    "        preds.append(int(np.argmax(row)))\n",
    "    \n",
    "    pred_labels[dataset] = pd.Series(preds)\n",
    "\n",
    "# print classification reports for each model\n",
    "\n",
    "for dataset in trainer:\n",
    "        print(dataset.upper())\n",
    "        print(classification_report(test_labels[dataset],pred_labels[dataset]))\n",
    "        print()"
   ]
  },
  {
   "cell_type": "code",
   "execution_count": 22,
   "metadata": {},
   "outputs": [
    {
     "name": "stdout",
     "output_type": "stream",
     "text": [
      "COMBINED\n",
      "micro F1 score: 89.56%\n",
      "macro F1 score: 82.07%\n",
      "weighted F1 score: 89.66%\n",
      "\n"
     ]
    }
   ],
   "source": [
    "# f1 scores\n",
    "for dataset in trainer:\n",
    "        print(dataset.upper())\n",
    "        for average in ['micro', 'macro', 'weighted']:\n",
    "            print('{} F1 score: {:.2%}'.format(average, f1_score(test_labels[dataset],pred_labels[dataset], average=average)))\n",
    "        print()"
   ]
  },
  {
   "cell_type": "code",
   "execution_count": 23,
   "metadata": {},
   "outputs": [
    {
     "name": "stdout",
     "output_type": "stream",
     "text": [
      "COMBINED\n",
      "0    13594\n",
      "1     3010\n",
      "dtype: int64\n",
      "\n"
     ]
    }
   ],
   "source": [
    "# distribution of predictions\n",
    "for dataset in trainer:\n",
    "        print(dataset.upper())\n",
    "        print(pred_labels[dataset].value_counts())\n",
    "        print()"
   ]
  },
  {
   "cell_type": "code",
   "execution_count": null,
   "metadata": {},
   "outputs": [],
   "source": []
  }
 ],
 "metadata": {
  "kernelspec": {
   "display_name": "rewire-online",
   "language": "python",
   "name": "rewire-online"
  },
  "language_info": {
   "codemirror_mode": {
    "name": "ipython",
    "version": 3
   },
   "file_extension": ".py",
   "mimetype": "text/x-python",
   "name": "python",
   "nbconvert_exporter": "python",
   "pygments_lexer": "ipython3",
   "version": "3.8.5"
  }
 },
 "nbformat": 4,
 "nbformat_minor": 4
}
